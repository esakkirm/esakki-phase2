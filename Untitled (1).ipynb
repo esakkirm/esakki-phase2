{
 "cells": [
  {
   "cell_type": "code",
   "execution_count": null,
   "id": "af65746e",
   "metadata": {},
   "outputs": [],
   "source": [
    "pip install nltk\n"
   ]
  },
  {
   "cell_type": "code",
   "execution_count": null,
   "id": "f25e9dd9",
   "metadata": {},
   "outputs": [],
   "source": [
    "import nltk\n",
    "from nltk.chat.util import Chat, reflections\n"
   ]
  },
  {
   "cell_type": "code",
   "execution_count": null,
   "id": "d8fc3e4d",
   "metadata": {},
   "outputs": [],
   "source": [
    "# Define patterns and responses\n",
    "pattern_responses = [\n",
    "    (r'hi|hello|hey', ['Hello!', 'Hi there!', 'How can I help you today?']),\n",
    "    (r'how are you', ['I'm just a chatbot, but I'm here to help!', 'I am doing well, thank you.']),\n",
    "    (r'(.*) your name', [\"I'm a chatbot created with NLTK.\", \"I don't have a name, but you can call me ChatGPT.\"]),\n",
    "    (r'bye|goodbye', ['Goodbye!', 'See you later!', 'Have a great day!']),\n",
    "]\n"
   ]
  },
  {
   "cell_type": "code",
   "execution_count": null,
   "id": "841d87a4",
   "metadata": {},
   "outputs": [],
   "source": [
    "chatbot = Chat(pattern_responses, reflections)\n"
   ]
  },
  {
   "cell_type": "code",
   "execution_count": null,
   "id": "e4678155",
   "metadata": {},
   "outputs": [],
   "source": [
    "print(\"Chatbot: Hi, I'm your chatbot. How can I assist you today? (type 'bye' to exit)\")\n",
    "\n",
    "while True:\n",
    "    user_input = input(\"You: \")\n",
    "    if user_input.lower() == 'bye':\n",
    "        print(\"Chatbot: Goodbye!\")\n",
    "        break\n",
    "    else:\n",
    "        response = chatbot.respond(user_input)\n",
    "        print(\"Chatbot:\", response)\n"
   ]
  },
  {
   "cell_type": "code",
   "execution_count": null,
   "id": "41b5979a",
   "metadata": {},
   "outputs": [],
   "source": []
  }
 ],
 "metadata": {
  "kernelspec": {
   "display_name": "Python 3 (ipykernel)",
   "language": "python",
   "name": "python3"
  },
  "language_info": {
   "codemirror_mode": {
    "name": "ipython",
    "version": 3
   },
   "file_extension": ".py",
   "mimetype": "text/x-python",
   "name": "python",
   "nbconvert_exporter": "python",
   "pygments_lexer": "ipython3",
   "version": "3.11.5"
  }
 },
 "nbformat": 4,
 "nbformat_minor": 5
}
